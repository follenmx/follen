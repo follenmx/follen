{
 "cells": [
  {
   "cell_type": "code",
   "execution_count": 75,
   "metadata": {},
   "outputs": [],
   "source": [
    "import pandas as pd\n",
    "\n",
    "df = pd.read_excel('../Save/ind.xlsx')"
   ]
  },
  {
   "cell_type": "code",
   "execution_count": 76,
   "metadata": {},
   "outputs": [
    {
     "data": {
      "text/plain": [
       "Number of Boys (0-5 years old)                   16.0\n",
       "Number of Girls (0-5 years old)                  23.0\n",
       "Number of Boys (6-17 years old)                  48.0\n",
       "Number of Girls (6-17 years old)                 19.0\n",
       "Number of Adult Males (18-49 years old)           6.0\n",
       "Number of Adult Females (18-49 years old)        17.0\n",
       "Number of Adult Males 50+ years old               1.0\n",
       "Number of Adult Females 50+ years old            10.0\n",
       "How many Male People with Disability?             0.0\n",
       "How many female People with Disability?           0.0\n",
       "Total Number of People Attending the Session    140.0\n",
       "dtype: float64"
      ]
     },
     "execution_count": 76,
     "metadata": {},
     "output_type": "execute_result"
    }
   ],
   "source": [
    "df.iloc[:,14:25].sum()"
   ]
  },
  {
   "cell_type": "code",
   "execution_count": 77,
   "metadata": {},
   "outputs": [
    {
     "data": {
      "text/plain": [
       "Targeted Age Group3     Sex   \n",
       "Adults: 18+ years old   Female    10\n",
       "                        Male       1\n",
       "Minors: 0-17 years old  Female     1\n",
       "                        Male       1\n",
       "Name: Targeted Age Group3, dtype: int64"
      ]
     },
     "execution_count": 77,
     "metadata": {},
     "output_type": "execute_result"
    }
   ],
   "source": [
    "df.groupby(['Targeted Age Group3','Sex'])['Targeted Age Group3'].count()"
   ]
  }
 ],
 "metadata": {
  "kernelspec": {
   "display_name": "Python 3.10.7 64-bit",
   "language": "python",
   "name": "python3"
  },
  "language_info": {
   "codemirror_mode": {
    "name": "ipython",
    "version": 3
   },
   "file_extension": ".py",
   "mimetype": "text/x-python",
   "name": "python",
   "nbconvert_exporter": "python",
   "pygments_lexer": "ipython3",
   "version": "3.10.7"
  },
  "orig_nbformat": 4,
  "vscode": {
   "interpreter": {
    "hash": "aee8b7b246df8f9039afb4144a1f6fd8d2ca17a180786b69acc140d282b71a49"
   }
  }
 },
 "nbformat": 4,
 "nbformat_minor": 2
}
